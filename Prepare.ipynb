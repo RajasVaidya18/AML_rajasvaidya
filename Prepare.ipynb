{
 "cells": [
  {
   "cell_type": "markdown",
   "id": "b6be1556",
   "metadata": {},
   "source": [
    "# Rajas Vaidya      "
   ]
  },
  {
   "cell_type": "markdown",
   "id": "2cb62d17",
   "metadata": {},
   "source": [
    "# MDS202131    \n"
   ]
  },
  {
   "cell_type": "markdown",
   "id": "63194fe4",
   "metadata": {},
   "source": [
    "# Applied ML assignment 1 "
   ]
  },
  {
   "cell_type": "markdown",
   "id": "a9545df2",
   "metadata": {},
   "source": [
    "Importing necessary libraries "
   ]
  },
  {
   "cell_type": "code",
   "execution_count": 49,
   "id": "de13ea17",
   "metadata": {},
   "outputs": [],
   "source": [
    "%matplotlib inline\n",
    "import matplotlib.pyplot as plt\n",
    "import csv\n",
    "from textblob import TextBlob\n",
    "import pandas\n",
    "import sklearn\n",
    "import pickle\n",
    "import numpy as np\n",
    "from sklearn.feature_extraction.text import CountVectorizer, TfidfTransformer\n",
    "from sklearn.naive_bayes import MultinomialNB\n",
    "from sklearn.svm import SVC, LinearSVC\n",
    "from sklearn.metrics import classification_report, f1_score, accuracy_score, confusion_matrix\n",
    "from sklearn.pipeline import Pipeline\n",
    "from sklearn.model_selection import GridSearchCV\n",
    "from sklearn.model_selection import StratifiedKFold, cross_val_score, train_test_split \n",
    "from sklearn.tree import DecisionTreeClassifier \n",
    "from sklearn.model_selection import learning_curve\n",
    "import pandas as pd\n",
    "from sklearn.preprocessing import LabelEncoder\n",
    "from sklearn.model_selection import train_test_split"
   ]
  },
  {
   "cell_type": "markdown",
   "id": "d7eb219f",
   "metadata": {},
   "source": [
    "Loading the data "
   ]
  },
  {
   "cell_type": "code",
   "execution_count": 50,
   "id": "2102873c",
   "metadata": {},
   "outputs": [],
   "source": [
    "mails = pandas.read_csv('C:\\\\Users\\\\rajas\\\\OneDrive\\\\Documents\\\\smsspamcollection\\\\SMSSpamCollection', sep='\\t', quoting=csv.QUOTE_NONE,\n",
    "                           names=[\"Label\", \"Text\"])"
   ]
  },
  {
   "cell_type": "markdown",
   "id": "0d62471f",
   "metadata": {},
   "source": [
    "Label encoding "
   ]
  },
  {
   "cell_type": "code",
   "execution_count": 51,
   "id": "fc744138",
   "metadata": {
    "scrolled": true
   },
   "outputs": [
    {
     "data": {
      "text/plain": [
       "0    4827\n",
       "1     747\n",
       "Name: Label, dtype: int64"
      ]
     },
     "execution_count": 51,
     "metadata": {},
     "output_type": "execute_result"
    }
   ],
   "source": [
    "encode = LabelEncoder()\n",
    "mails['Label'] = encode.fit_transform(mails['Label'])\n",
    "mails['Label'].value_counts()"
   ]
  },
  {
   "cell_type": "code",
   "execution_count": 52,
   "id": "ae382201",
   "metadata": {},
   "outputs": [],
   "source": [
    "lab = pd.DataFrame(mails[\"Label\"])\n",
    "txt = pd.DataFrame(mails[\"Text\"])"
   ]
  },
  {
   "cell_type": "markdown",
   "id": "c2dcc144",
   "metadata": {},
   "source": [
    "Splitting data into train, test and validation sets "
   ]
  },
  {
   "cell_type": "code",
   "execution_count": 53,
   "id": "1b0c1bbb",
   "metadata": {},
   "outputs": [],
   "source": [
    "X_train, X_valtest, y_train, y_valtest = train_test_split(\n",
    "    txt, lab, test_size=0.30)\n",
    "X_test, X_val, y_test, y_val = train_test_split(\n",
    "    X_valtest, y_valtest, test_size=0.5)\n",
    "train_set = pd.concat([y_train, X_train], axis=1)\n",
    "test_set = pd.concat([y_test,X_test],axis=1)\n",
    "validation_set =pd.concat([y_val,X_val],axis=1)"
   ]
  },
  {
   "cell_type": "markdown",
   "id": "e9b7d5d7",
   "metadata": {},
   "source": [
    "Storing the data in 3 different CSVs for train, test and validation dataset "
   ]
  },
  {
   "cell_type": "code",
   "execution_count": 54,
   "id": "d088b1e2",
   "metadata": {},
   "outputs": [],
   "source": [
    "train_set.to_csv(\"C:\\\\Users\\\\rajas\\\\OneDrive\\\\Documents\\\\train.csv\")\n",
    "test_set.to_csv(\"C:\\\\Users\\\\rajas\\\\OneDrive\\\\Documents\\\\test.csv\")\n",
    "validation_set.to_csv(\"C:\\\\Users\\\\rajas\\\\OneDrive\\\\Documents\\\\validation.csv\")"
   ]
  }
 ],
 "metadata": {
  "kernelspec": {
   "display_name": "Python 3 (ipykernel)",
   "language": "python",
   "name": "python3"
  },
  "language_info": {
   "codemirror_mode": {
    "name": "ipython",
    "version": 3
   },
   "file_extension": ".py",
   "mimetype": "text/x-python",
   "name": "python",
   "nbconvert_exporter": "python",
   "pygments_lexer": "ipython3",
   "version": "3.9.7"
  }
 },
 "nbformat": 4,
 "nbformat_minor": 5
}
