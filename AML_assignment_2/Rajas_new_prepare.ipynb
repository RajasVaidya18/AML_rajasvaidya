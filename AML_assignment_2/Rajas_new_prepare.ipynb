{
 "cells": [
  {
   "cell_type": "markdown",
   "id": "52f02b7d",
   "metadata": {},
   "source": [
    "# Rajas Vaidya"
   ]
  },
  {
   "cell_type": "markdown",
   "id": "4bf6fdaf",
   "metadata": {},
   "source": [
    "# MDS202131"
   ]
  },
  {
   "cell_type": "markdown",
   "id": "20a5101b",
   "metadata": {},
   "source": [
    "# AML Assignment 2"
   ]
  },
  {
   "cell_type": "markdown",
   "id": "bb0d4553",
   "metadata": {},
   "source": [
    "Importing necessary libraries"
   ]
  },
  {
   "cell_type": "code",
   "execution_count": 251,
   "id": "ff34cebd",
   "metadata": {},
   "outputs": [],
   "source": [
    "%matplotlib inline\n",
    "import matplotlib.pyplot as plt\n",
    "import csv\n",
    "from textblob import TextBlob\n",
    "import pandas\n",
    "import sklearn\n",
    "import pickle\n",
    "import numpy as np\n",
    "from sklearn.feature_extraction.text import CountVectorizer, TfidfTransformer\n",
    "from sklearn.naive_bayes import MultinomialNB\n",
    "from sklearn.svm import SVC, LinearSVC\n",
    "from sklearn.metrics import classification_report, f1_score, accuracy_score, confusion_matrix\n",
    "from sklearn.pipeline import Pipeline\n",
    "from sklearn.model_selection import GridSearchCV\n",
    "from sklearn.model_selection import StratifiedKFold, cross_val_score, train_test_split \n",
    "from sklearn.tree import DecisionTreeClassifier \n",
    "from sklearn.model_selection import learning_curve\n",
    "import pandas as pd\n",
    "from sklearn.preprocessing import LabelEncoder\n",
    "from sklearn.model_selection import train_test_split\n"
   ]
  },
  {
   "cell_type": "markdown",
   "id": "8c3316e2",
   "metadata": {},
   "source": [
    "Loading the data"
   ]
  },
  {
   "cell_type": "code",
   "execution_count": 215,
   "id": "7cc925e0",
   "metadata": {},
   "outputs": [
    {
     "data": {
      "text/html": [
       "<div>\n",
       "<style scoped>\n",
       "    .dataframe tbody tr th:only-of-type {\n",
       "        vertical-align: middle;\n",
       "    }\n",
       "\n",
       "    .dataframe tbody tr th {\n",
       "        vertical-align: top;\n",
       "    }\n",
       "\n",
       "    .dataframe thead th {\n",
       "        text-align: right;\n",
       "    }\n",
       "</style>\n",
       "<table border=\"1\" class=\"dataframe\">\n",
       "  <thead>\n",
       "    <tr style=\"text-align: right;\">\n",
       "      <th></th>\n",
       "      <th>Label</th>\n",
       "      <th>Text</th>\n",
       "    </tr>\n",
       "  </thead>\n",
       "  <tbody>\n",
       "    <tr>\n",
       "      <th>0</th>\n",
       "      <td>ham</td>\n",
       "      <td>Go until jurong point, crazy.. Available only ...</td>\n",
       "    </tr>\n",
       "    <tr>\n",
       "      <th>1</th>\n",
       "      <td>ham</td>\n",
       "      <td>Ok lar... Joking wif u oni...</td>\n",
       "    </tr>\n",
       "    <tr>\n",
       "      <th>2</th>\n",
       "      <td>spam</td>\n",
       "      <td>Free entry in 2 a wkly comp to win FA Cup fina...</td>\n",
       "    </tr>\n",
       "    <tr>\n",
       "      <th>3</th>\n",
       "      <td>ham</td>\n",
       "      <td>U dun say so early hor... U c already then say...</td>\n",
       "    </tr>\n",
       "    <tr>\n",
       "      <th>4</th>\n",
       "      <td>ham</td>\n",
       "      <td>Nah I don't think he goes to usf, he lives aro...</td>\n",
       "    </tr>\n",
       "  </tbody>\n",
       "</table>\n",
       "</div>"
      ],
      "text/plain": [
       "  Label                                               Text\n",
       "0   ham  Go until jurong point, crazy.. Available only ...\n",
       "1   ham                      Ok lar... Joking wif u oni...\n",
       "2  spam  Free entry in 2 a wkly comp to win FA Cup fina...\n",
       "3   ham  U dun say so early hor... U c already then say...\n",
       "4   ham  Nah I don't think he goes to usf, he lives aro..."
      ]
     },
     "execution_count": 215,
     "metadata": {},
     "output_type": "execute_result"
    }
   ],
   "source": [
    "raw_data = pandas.read_csv('smsspamCollection', sep='\\t', quoting=csv.QUOTE_NONE,\n",
    "                           names=[\"Label\", \"Text\"])\n",
    "raw_data.to_csv('raw_data.csv',index=False) \n",
    "\n",
    "raw_data.head()"
   ]
  },
  {
   "cell_type": "code",
   "execution_count": 216,
   "id": "2ce02c34",
   "metadata": {},
   "outputs": [
    {
     "data": {
      "text/html": [
       "<div>\n",
       "<style scoped>\n",
       "    .dataframe tbody tr th:only-of-type {\n",
       "        vertical-align: middle;\n",
       "    }\n",
       "\n",
       "    .dataframe tbody tr th {\n",
       "        vertical-align: top;\n",
       "    }\n",
       "\n",
       "    .dataframe thead tr th {\n",
       "        text-align: left;\n",
       "    }\n",
       "\n",
       "    .dataframe thead tr:last-of-type th {\n",
       "        text-align: right;\n",
       "    }\n",
       "</style>\n",
       "<table border=\"1\" class=\"dataframe\">\n",
       "  <thead>\n",
       "    <tr>\n",
       "      <th></th>\n",
       "      <th colspan=\"4\" halign=\"left\">Text</th>\n",
       "    </tr>\n",
       "    <tr>\n",
       "      <th></th>\n",
       "      <th>count</th>\n",
       "      <th>unique</th>\n",
       "      <th>top</th>\n",
       "      <th>freq</th>\n",
       "    </tr>\n",
       "    <tr>\n",
       "      <th>Label</th>\n",
       "      <th></th>\n",
       "      <th></th>\n",
       "      <th></th>\n",
       "      <th></th>\n",
       "    </tr>\n",
       "  </thead>\n",
       "  <tbody>\n",
       "    <tr>\n",
       "      <th>ham</th>\n",
       "      <td>4827</td>\n",
       "      <td>4518</td>\n",
       "      <td>Sorry, I'll call later</td>\n",
       "      <td>30</td>\n",
       "    </tr>\n",
       "    <tr>\n",
       "      <th>spam</th>\n",
       "      <td>747</td>\n",
       "      <td>653</td>\n",
       "      <td>Please call our customer service representativ...</td>\n",
       "      <td>4</td>\n",
       "    </tr>\n",
       "  </tbody>\n",
       "</table>\n",
       "</div>"
      ],
      "text/plain": [
       "       Text                                                               \n",
       "      count unique                                                top freq\n",
       "Label                                                                     \n",
       "ham    4827   4518                             Sorry, I'll call later   30\n",
       "spam    747    653  Please call our customer service representativ...    4"
      ]
     },
     "execution_count": 216,
     "metadata": {},
     "output_type": "execute_result"
    }
   ],
   "source": [
    "#seeing the distribution of the data \n",
    "raw_data.groupby('Label').describe()"
   ]
  },
  {
   "cell_type": "code",
   "execution_count": 217,
   "id": "8f622d25",
   "metadata": {},
   "outputs": [
    {
     "data": {
      "text/html": [
       "<div>\n",
       "<style scoped>\n",
       "    .dataframe tbody tr th:only-of-type {\n",
       "        vertical-align: middle;\n",
       "    }\n",
       "\n",
       "    .dataframe tbody tr th {\n",
       "        vertical-align: top;\n",
       "    }\n",
       "\n",
       "    .dataframe thead th {\n",
       "        text-align: right;\n",
       "    }\n",
       "</style>\n",
       "<table border=\"1\" class=\"dataframe\">\n",
       "  <thead>\n",
       "    <tr style=\"text-align: right;\">\n",
       "      <th></th>\n",
       "      <th>Label</th>\n",
       "      <th>Text</th>\n",
       "    </tr>\n",
       "  </thead>\n",
       "  <tbody>\n",
       "    <tr>\n",
       "      <th>0</th>\n",
       "      <td>0</td>\n",
       "      <td>Go until jurong point, crazy.. Available only ...</td>\n",
       "    </tr>\n",
       "    <tr>\n",
       "      <th>1</th>\n",
       "      <td>0</td>\n",
       "      <td>Ok lar... Joking wif u oni...</td>\n",
       "    </tr>\n",
       "    <tr>\n",
       "      <th>2</th>\n",
       "      <td>1</td>\n",
       "      <td>Free entry in 2 a wkly comp to win FA Cup fina...</td>\n",
       "    </tr>\n",
       "    <tr>\n",
       "      <th>3</th>\n",
       "      <td>0</td>\n",
       "      <td>U dun say so early hor... U c already then say...</td>\n",
       "    </tr>\n",
       "    <tr>\n",
       "      <th>4</th>\n",
       "      <td>0</td>\n",
       "      <td>Nah I don't think he goes to usf, he lives aro...</td>\n",
       "    </tr>\n",
       "  </tbody>\n",
       "</table>\n",
       "</div>"
      ],
      "text/plain": [
       "  Label                                               Text\n",
       "0     0  Go until jurong point, crazy.. Available only ...\n",
       "1     0                      Ok lar... Joking wif u oni...\n",
       "2     1  Free entry in 2 a wkly comp to win FA Cup fina...\n",
       "3     0  U dun say so early hor... U c already then say...\n",
       "4     0  Nah I don't think he goes to usf, he lives aro..."
      ]
     },
     "execution_count": 217,
     "metadata": {},
     "output_type": "execute_result"
    }
   ],
   "source": [
    "raw_data.loc[raw_data.Label == 'spam', 'Label'] = 1\n",
    "raw_data.loc[raw_data.Label == 'ham', 'Label'] = 0\n",
    "raw_data.head()"
   ]
  },
  {
   "cell_type": "markdown",
   "id": "1d43a8c2",
   "metadata": {},
   "source": [
    "Train test split with random state 36"
   ]
  },
  {
   "cell_type": "code",
   "execution_count": 218,
   "id": "da2a5b56",
   "metadata": {},
   "outputs": [],
   "source": [
    "X_train, X_test, y_train, y_test = train_test_split(raw_data.Text, raw_data['Label'], test_size=0.15, random_state=36)\n",
    "X_train, X_val, y_train, y_val = train_test_split(X_train, y_train, test_size=0.15, random_state=36)"
   ]
  },
  {
   "cell_type": "code",
   "execution_count": 219,
   "id": "15e23c43",
   "metadata": {},
   "outputs": [
    {
     "name": "stdout",
     "output_type": "stream",
     "text": [
      "Train set - number of 0s: 3508 number of 1s: 518\n",
      "Validation set - number of 0s: 607 number of 1s: 104\n",
      "Test set - number of 0s: 712 number of 1s: 125\n"
     ]
    }
   ],
   "source": [
    "## checking the data profile with seed 36\n",
    "print(\"Train set - number of 0s:\", sum(y_train == 0), \"number of 1s:\", sum(y_train == 1))\n",
    "print(\"Validation set - number of 0s:\", sum(y_val == 0), \"number of 1s:\", sum(y_val== 1))\n",
    "print(\"Test set - number of 0s:\", sum(y_test== 0), \"number of 1s:\", sum(y_test== 1))"
   ]
  },
  {
   "cell_type": "code",
   "execution_count": 221,
   "id": "d226938e",
   "metadata": {},
   "outputs": [],
   "source": [
    "df_train = pd.DataFrame(list(zip(X_train,y_train)),columns=[\"Text\",'Label'])\n",
    "df_test = pd.DataFrame(list(zip(X_test,y_test)),columns=[\"Text\",'Label'])\n",
    "df_val = pd.DataFrame(list(zip(X_val,y_val)),columns=[\"Text\",'Label'])\n",
    "df_val.to_csv('Data\\\\Validation.csv',index=False) \n",
    "df_test.to_csv('Data\\\\test.csv',index=False) \n",
    "df_train.to_csv('Data\\\\train.csv',index=False) "
   ]
  },
  {
   "cell_type": "code",
   "execution_count": 166,
   "id": "4403f29d",
   "metadata": {},
   "outputs": [],
   "source": [
    "#!pip install dvc"
   ]
  },
  {
   "cell_type": "code",
   "execution_count": 222,
   "id": "f0fa9ca2",
   "metadata": {},
   "outputs": [
    {
     "name": "stdout",
     "output_type": "stream",
     "text": [
      "Reinitialized existing Git repository in C:/Users/rajas/OneDrive/Documents/AML/AML_rajasvaidya/AML_assignment_2/.git/\n",
      "Initialized DVC repository.\n",
      "\n",
      "You can now commit the changes to git.\n",
      "\n",
      "+---------------------------------------------------------------------+\n",
      "|                                                                     |\n",
      "|        DVC has enabled anonymous aggregate usage analytics.         |\n",
      "|     Read the analytics documentation (and how to opt-out) here:     |\n",
      "|             <https://dvc.org/doc/user-guide/analytics>              |\n",
      "|                                                                     |\n",
      "+---------------------------------------------------------------------+\n",
      "\n",
      "What's next?\n",
      "------------\n",
      "- Check out the documentation: <https://dvc.org/doc>\n",
      "- Get help and share ideas: <https://dvc.org/chat>\n",
      "- Star us on GitHub: <https://github.com/iterative/dvc>\n"
     ]
    }
   ],
   "source": [
    "#! git init\n",
    "#! dvc init -f"
   ]
  },
  {
   "cell_type": "code",
   "execution_count": 223,
   "id": "e93eb5bb",
   "metadata": {},
   "outputs": [
    {
     "name": "stdout",
     "output_type": "stream",
     "text": [
      "\n",
      "To track the changes with git, run:\n",
      "\n",
      "\tgit add .gitignore Data.dvc\n",
      "\n",
      "To enable auto staging, run:\n",
      "\n",
      "\tdvc config core.autostage true\n",
      "[main f9ab655] Tracking Data\n",
      " 1 file changed, 5 insertions(+)\n",
      " create mode 100644 Data.dvc\n"
     ]
    }
   ],
   "source": [
    "! dvc add Data\n",
    "! git add Data.dvc\n",
    "! git commit -m \"Tracking Data\""
   ]
  },
  {
   "cell_type": "code",
   "execution_count": 226,
   "id": "414ca2eb",
   "metadata": {},
   "outputs": [
    {
     "name": "stdout",
     "output_type": "stream",
     "text": [
      "1 file pushed\n"
     ]
    }
   ],
   "source": [
    "! dvc remote add -d storage gdrive://1IJKc-SH23mgfcxNwO94ZBqfnkP9HwIKe\n",
    "! dvc remote list\n",
    "! dvc push"
   ]
  },
  {
   "cell_type": "markdown",
   "id": "acf0dc43",
   "metadata": {},
   "source": [
    "Doing train test split with random state 37"
   ]
  },
  {
   "cell_type": "code",
   "execution_count": 232,
   "id": "5a535c8c",
   "metadata": {},
   "outputs": [],
   "source": [
    "X_train, X_test, y_train, y_test = train_test_split(raw_data.Text, raw_data['Label'], test_size=0.15, random_state=37)\n",
    "X_train, X_val, y_train, y_val = train_test_split(X_train, y_train, test_size=0.15, random_state=37)"
   ]
  },
  {
   "cell_type": "code",
   "execution_count": 233,
   "id": "8a9648be",
   "metadata": {},
   "outputs": [
    {
     "name": "stdout",
     "output_type": "stream",
     "text": [
      "Train set - number of 0s: 3499 number of 1s: 527\n",
      "Validation set - number of 0s: 614 number of 1s: 97\n",
      "Test set - number of 0s: 714 number of 1s: 123\n"
     ]
    }
   ],
   "source": [
    "## checking the data profile with seed 37\n",
    "print(\"Train set - number of 0s:\", sum(y_train == 0), \"number of 1s:\", sum(y_train == 1))\n",
    "print(\"Validation set - number of 0s:\", sum(y_val == 0), \"number of 1s:\", sum(y_val== 1))\n",
    "print(\"Test set - number of 0s:\", sum(y_test== 0), \"number of 1s:\", sum(y_test== 1))"
   ]
  },
  {
   "cell_type": "code",
   "execution_count": 230,
   "id": "61b77564",
   "metadata": {},
   "outputs": [],
   "source": [
    "df_train = pd.DataFrame(list(zip(X_train,y_train)),columns=[\"Text\",'Label'])\n",
    "df_test = pd.DataFrame(list(zip(X_test,y_test)),columns=[\"Text\",'Label'])\n",
    "df_val = pd.DataFrame(list(zip(X_val,y_val)),columns=[\"Text\",'Label'])\n",
    "df_val.to_csv('Data/Validation.csv',index=False) \n",
    "df_test.to_csv('Data/test.csv',index=False) \n",
    "df_train.to_csv('Data/train.csv',index=False) "
   ]
  },
  {
   "cell_type": "code",
   "execution_count": 237,
   "id": "ad2aedd5",
   "metadata": {},
   "outputs": [
    {
     "name": "stdout",
     "output_type": "stream",
     "text": [
      "4 files pushed\n"
     ]
    }
   ],
   "source": [
    "#! dvc add Data\n",
    "#! git add Data.dvc\n",
    "#! git commit -m \"Seed Changes\"\n",
    "! dvc push"
   ]
  },
  {
   "cell_type": "code",
   "execution_count": 239,
   "id": "d159cc5d",
   "metadata": {},
   "outputs": [
    {
     "name": "stdout",
     "output_type": "stream",
     "text": [
      "commit d0f909c0564aeb69d719ba46d7db472a39a8edc3\n",
      "Author: Rajas Vaidya <rajasvaidya18@gmail.com>\n",
      "Date:   Mon Feb 27 23:47:24 2023 +0530\n",
      "\n",
      "    Seed Changes\n",
      "\n",
      "commit f9ab6555a014f8ae515677c610ab019a834256b5\n",
      "Author: Rajas Vaidya <rajasvaidya18@gmail.com>\n",
      "Date:   Mon Feb 27 23:39:53 2023 +0530\n",
      "\n",
      "    Tracking Data\n",
      "\n",
      "commit b9b7a9c12dc94e4d248c495fb8e23e257bb39d0e\n",
      "Author: Rajas Vaidya <rajasvaidya18@gmail.com>\n",
      "Date:   Mon Feb 27 23:23:15 2023 +0530\n",
      "\n",
      "    Seed Changes\n",
      "\n",
      "commit c8eaea88661998ad755a866709b4b0a9cae9ca8f\n",
      "Author: Rajas Vaidya <rajasvaidya18@gmail.com>\n",
      "Date:   Mon Feb 27 23:21:18 2023 +0530\n",
      "\n",
      "    Tracking Data\n",
      "\n",
      "commit 3b03de3e9547402887925ce04cdbd71b19b49840\n",
      "Author: Rajas Vaidya <rajasvaidya18@gmail.com>\n",
      "Date:   Mon Feb 27 23:20:51 2023 +0530\n",
      "\n",
      "    Tracking Data\n",
      "\n",
      "commit 1a61c3023d8930349705ebb12191588f0a2cbd20\n",
      "Author: Rajas Vaidya <rajasvaidya18@gmail.com>\n",
      "Date:   Mon Feb 27 22:59:32 2023 +0530\n",
      "\n",
      "    Tracking Data\n",
      "\n",
      "commit 926ea0f6e85e69619d008615ce321e841f0fb49c\n",
      "Author: Rajas Vaidya <rajasvaidya18@gmail.com>\n",
      "Date:   Mon Feb 27 22:38:47 2023 +0530\n",
      "\n",
      "    Seed Changes\n",
      "\n",
      "commit df49aaf1292a356e6041778786428b38d4302133\n",
      "Author: Rajas Vaidya <rajasvaidya18@gmail.com>\n",
      "Date:   Mon Feb 27 22:19:41 2023 +0530\n",
      "\n",
      "    Seed Changes\n",
      "\n",
      "commit 048eeb024d2a90c89f99874288506a94d9650403\n",
      "Author: Rajas Vaidya <rajasvaidya18@gmail.com>\n",
      "Date:   Mon Feb 27 21:27:02 2023 +0530\n",
      "\n",
      "    Tracking Data\n"
     ]
    }
   ],
   "source": [
    "#! git log --oneline\n",
    "!git log\n"
   ]
  },
  {
   "cell_type": "code",
   "execution_count": 242,
   "id": "4009a5fc",
   "metadata": {},
   "outputs": [
    {
     "name": "stdout",
     "output_type": "stream",
     "text": [
      "M       Data\\\n"
     ]
    },
    {
     "name": "stderr",
     "output_type": "stream",
     "text": [
      "ERROR: Checkout failed for following targets:\n",
      "C:\\Users\\rajas\\OneDrive\\Documents\\AML\\AML_rajasvaidya\\AML_assignment_2\\smsspamcollection\n",
      "Is your cache up to date?\n",
      "<https://error.dvc.org/missing-files>\n"
     ]
    }
   ],
   "source": [
    "#! git checkout f9ab6555a014f8ae515677c610ab019a834256b5 Data.dvc     \n",
    "! dvc checkout -f"
   ]
  },
  {
   "cell_type": "code",
   "execution_count": 243,
   "id": "e68a2f07",
   "metadata": {},
   "outputs": [],
   "source": [
    "train = pd.read_csv('Data/train.csv')\n",
    "val = pd.read_csv('Data/Validation.csv')\n",
    "test = pd.read_csv('Data/test.csv')"
   ]
  },
  {
   "cell_type": "markdown",
   "id": "35b941bd",
   "metadata": {},
   "source": [
    "Checking the data profile before update"
   ]
  },
  {
   "cell_type": "code",
   "execution_count": 244,
   "id": "0e196734",
   "metadata": {},
   "outputs": [
    {
     "name": "stdout",
     "output_type": "stream",
     "text": [
      "Train set - number of 0s: 3508 number of 1s: 518\n",
      "Validation set - number of 0s: 607 number of 1s: 104\n",
      "Test set - number of 0s: 712 number of 1s: 125\n"
     ]
    }
   ],
   "source": [
    "print(\"Train set - number of 0s:\", sum(train['Label'] == 0), \"number of 1s:\", sum(train['Label'] == 1))\n",
    "print(\"Validation set - number of 0s:\", sum(val['Label'] == 0), \"number of 1s:\", sum(val['Label'] == 1))\n",
    "print(\"Test set - number of 0s:\", sum(test['Label'] == 0), \"number of 1s:\", sum(test['Label'] == 1))"
   ]
  },
  {
   "cell_type": "code",
   "execution_count": 245,
   "id": "61be2de0",
   "metadata": {},
   "outputs": [
    {
     "name": "stdout",
     "output_type": "stream",
     "text": [
      "commit d0f909c0564aeb69d719ba46d7db472a39a8edc3\n",
      "Author: Rajas Vaidya <rajasvaidya18@gmail.com>\n",
      "Date:   Mon Feb 27 23:47:24 2023 +0530\n",
      "\n",
      "    Seed Changes\n",
      "\n",
      "commit f9ab6555a014f8ae515677c610ab019a834256b5\n",
      "Author: Rajas Vaidya <rajasvaidya18@gmail.com>\n",
      "Date:   Mon Feb 27 23:39:53 2023 +0530\n",
      "\n",
      "    Tracking Data\n",
      "\n",
      "commit b9b7a9c12dc94e4d248c495fb8e23e257bb39d0e\n",
      "Author: Rajas Vaidya <rajasvaidya18@gmail.com>\n",
      "Date:   Mon Feb 27 23:23:15 2023 +0530\n",
      "\n",
      "    Seed Changes\n",
      "\n",
      "commit c8eaea88661998ad755a866709b4b0a9cae9ca8f\n",
      "Author: Rajas Vaidya <rajasvaidya18@gmail.com>\n",
      "Date:   Mon Feb 27 23:21:18 2023 +0530\n",
      "\n",
      "    Tracking Data\n",
      "\n",
      "commit 3b03de3e9547402887925ce04cdbd71b19b49840\n",
      "Author: Rajas Vaidya <rajasvaidya18@gmail.com>\n",
      "Date:   Mon Feb 27 23:20:51 2023 +0530\n",
      "\n",
      "    Tracking Data\n",
      "\n",
      "commit 1a61c3023d8930349705ebb12191588f0a2cbd20\n",
      "Author: Rajas Vaidya <rajasvaidya18@gmail.com>\n",
      "Date:   Mon Feb 27 22:59:32 2023 +0530\n",
      "\n",
      "    Tracking Data\n",
      "\n",
      "commit 926ea0f6e85e69619d008615ce321e841f0fb49c\n",
      "Author: Rajas Vaidya <rajasvaidya18@gmail.com>\n",
      "Date:   Mon Feb 27 22:38:47 2023 +0530\n",
      "\n",
      "    Seed Changes\n",
      "\n",
      "commit df49aaf1292a356e6041778786428b38d4302133\n",
      "Author: Rajas Vaidya <rajasvaidya18@gmail.com>\n",
      "Date:   Mon Feb 27 22:19:41 2023 +0530\n",
      "\n",
      "    Seed Changes\n",
      "\n",
      "commit 048eeb024d2a90c89f99874288506a94d9650403\n",
      "Author: Rajas Vaidya <rajasvaidya18@gmail.com>\n",
      "Date:   Mon Feb 27 21:27:02 2023 +0530\n",
      "\n",
      "    Tracking Data\n"
     ]
    }
   ],
   "source": [
    "!git log"
   ]
  },
  {
   "cell_type": "code",
   "execution_count": 247,
   "id": "ea43c577",
   "metadata": {},
   "outputs": [
    {
     "name": "stdout",
     "output_type": "stream",
     "text": [
      "M       Data\\\n"
     ]
    },
    {
     "name": "stderr",
     "output_type": "stream",
     "text": [
      "ERROR: Checkout failed for following targets:\n",
      "C:\\Users\\rajas\\OneDrive\\Documents\\AML\\AML_rajasvaidya\\AML_assignment_2\\smsspamcollection\n",
      "Is your cache up to date?\n",
      "<https://error.dvc.org/missing-files>\n"
     ]
    }
   ],
   "source": [
    "#! git checkout d0f909c0564aeb69d719ba46d7db472a39a8edc3 Data.dvc     \n",
    "! dvc checkout \n"
   ]
  },
  {
   "cell_type": "code",
   "execution_count": 248,
   "id": "0d45d021",
   "metadata": {},
   "outputs": [],
   "source": [
    "train = pd.read_csv('Data/train.csv')\n",
    "val = pd.read_csv('Data/Validation.csv')\n",
    "test = pd.read_csv('Data/test.csv')"
   ]
  },
  {
   "cell_type": "markdown",
   "id": "a72eaec7",
   "metadata": {},
   "source": [
    "Checking the data profile after update"
   ]
  },
  {
   "cell_type": "code",
   "execution_count": 249,
   "id": "4f7ed459",
   "metadata": {},
   "outputs": [
    {
     "name": "stdout",
     "output_type": "stream",
     "text": [
      "Train set - number of 0s: 3499 number of 1s: 527\n",
      "Validation set - number of 0s: 614 number of 1s: 97\n",
      "Test set - number of 0s: 714 number of 1s: 123\n"
     ]
    }
   ],
   "source": [
    "print(\"Train set - number of 0s:\", sum(train['Label'] == 0), \"number of 1s:\", sum(train['Label'] == 1))\n",
    "print(\"Validation set - number of 0s:\", sum(val['Label'] == 0), \"number of 1s:\", sum(val['Label'] == 1))\n",
    "print(\"Test set - number of 0s:\", sum(test['Label'] == 0), \"number of 1s:\", sum(test['Label'] == 1))"
   ]
  }
 ],
 "metadata": {
  "kernelspec": {
   "display_name": "Python 3 (ipykernel)",
   "language": "python",
   "name": "python3"
  },
  "language_info": {
   "codemirror_mode": {
    "name": "ipython",
    "version": 3
   },
   "file_extension": ".py",
   "mimetype": "text/x-python",
   "name": "python",
   "nbconvert_exporter": "python",
   "pygments_lexer": "ipython3",
   "version": "3.9.7"
  }
 },
 "nbformat": 4,
 "nbformat_minor": 5
}
