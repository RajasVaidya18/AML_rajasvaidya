{
 "cells": [
  {
   "cell_type": "markdown",
   "id": "9f7c2746",
   "metadata": {},
   "source": [
    "# Rajas Vaidya\n"
   ]
  },
  {
   "cell_type": "markdown",
   "id": "3c82d112",
   "metadata": {},
   "source": [
    "# MDS202131"
   ]
  },
  {
   "cell_type": "markdown",
   "id": "c17b5526",
   "metadata": {},
   "source": [
    "# AML assignment 2"
   ]
  },
  {
   "cell_type": "markdown",
   "id": "22fd4aeb",
   "metadata": {},
   "source": [
    "Importing necessary libraries "
   ]
  },
  {
   "cell_type": "code",
   "execution_count": 61,
   "id": "469a6d13",
   "metadata": {},
   "outputs": [],
   "source": [
    "import pandas as pd\n",
    "import sklearn\n",
    "import numpy as np\n",
    "import matplotlib.pyplot as plt\n",
    "from sklearn.naive_bayes import GaussianNB, BernoulliNB\n",
    "from sklearn.linear_model import LogisticRegression\n",
    "from sklearn.feature_extraction.text import TfidfVectorizer\n",
    "from sklearn.ensemble import AdaBoostClassifier\n",
    "from sklearn.discriminant_analysis import QuadraticDiscriminantAnalysis\n",
    "from sklearn.metrics import classification_report, confusion_matrix,accuracy_score,precision_recall_curve,auc\n",
    "import mlflow\n",
    "import logging\n",
    "from urllib.parse import urlparse\n",
    "from markupsafe import escape\n",
    "logging.basicConfig(level=logging.WARN)\n",
    "logger = logging.getLogger(__name__)\n",
    "from sklearn.feature_extraction.text import TfidfTransformer,CountVectorizer\n",
    "import warnings\n",
    "warnings.filterwarnings(\"ignore\")"
   ]
  },
  {
   "cell_type": "markdown",
   "id": "4f221e5b",
   "metadata": {},
   "source": [
    "Loading the data from prepare.ipynb"
   ]
  },
  {
   "cell_type": "code",
   "execution_count": 62,
   "id": "756e0ffa",
   "metadata": {},
   "outputs": [],
   "source": [
    "train=pd.read_csv(\"train.csv\")\n",
    "test=pd.read_csv(\"test.csv\")\n",
    "valid=pd.read_csv(\"Validation.csv\")\n",
    "y_train,X_train=train[\"Label\"],train[\"Text\"]\n",
    "y_val,X_val=valid[\"Label\"],valid[\"Text\"]\n",
    "y_test,X_test=test[\"Label\"],test[\"Text\"]"
   ]
  },
  {
   "cell_type": "markdown",
   "id": "2c42d5b5",
   "metadata": {},
   "source": [
    "Replacing NAN entries"
   ]
  },
  {
   "cell_type": "code",
   "execution_count": 63,
   "id": "24e090e3",
   "metadata": {},
   "outputs": [],
   "source": [
    "X_train = X_train.replace(np.nan, '', regex=True)\n",
    "X_val = X_val.replace(np.nan, '', regex=True)\n",
    "X_test = X_test.replace(np.nan, '', regex=True)"
   ]
  },
  {
   "cell_type": "code",
   "execution_count": 64,
   "id": "ff8c0303",
   "metadata": {},
   "outputs": [],
   "source": [
    "count = CountVectorizer().fit(X_train)\n",
    "X_train = count.transform(X_train)\n",
    "X_val = count.transform(X_val)\n",
    "X_test = count.transform(X_test)"
   ]
  },
  {
   "cell_type": "code",
   "execution_count": 65,
   "id": "f5e76160",
   "metadata": {},
   "outputs": [],
   "source": [
    "tfidf_transformer = TfidfTransformer()\n",
    "tfidf_train = tfidf_transformer.fit_transform(X_train)\n",
    "tfidf_val = tfidf_transformer.fit_transform(X_val)\n",
    "tfidf_test = tfidf_transformer.fit_transform(X_test)"
   ]
  },
  {
   "cell_type": "code",
   "execution_count": 66,
   "id": "84f4f498",
   "metadata": {},
   "outputs": [],
   "source": [
    "def eval_metrics(actual, pred):\n",
    "    precision, recall, thresholds = precision_recall_curve(actual, pred)\n",
    "    auc_precision_recall = auc(recall, precision)\n",
    "    return (auc_precision_recall)"
   ]
  },
  {
   "cell_type": "markdown",
   "id": "cfcf6ce5",
   "metadata": {},
   "source": [
    "Gaussian Naive Bayes"
   ]
  },
  {
   "cell_type": "code",
   "execution_count": 67,
   "id": "7fb4103b",
   "metadata": {},
   "outputs": [
    {
     "name": "stderr",
     "output_type": "stream",
     "text": [
      "2023/02/28 01:29:38 INFO mlflow.utils.autologging_utils: Created MLflow autologging run with ID '08aa95c24ccf42f2884100317360418b', which will track hyperparameters, performance metrics, model artifacts, and lineage information for the current sklearn workflow\n"
     ]
    },
    {
     "name": "stdout",
     "output_type": "stream",
     "text": [
      "\n",
      "Gaussian Naive Bayes\n",
      "Accuracy: 0.9474313022700119\n",
      "AUCPR: 0.850284348864994\n",
      "Confusion Matrix: [[712   0]\n",
      " [ 44  81]] \n",
      "\n",
      "\n"
     ]
    },
    {
     "name": "stderr",
     "output_type": "stream",
     "text": [
      "Registered model 'Gaussian-NaiveBayes-model' already exists. Creating a new version of this model...\n",
      "2023/02/28 01:29:46 INFO mlflow.tracking._model_registry.client: Waiting up to 300 seconds for model version to finish creation.                     Model name: Gaussian-NaiveBayes-model, version 3\n",
      "Created version '3' of model 'Gaussian-NaiveBayes-model'.\n"
     ]
    }
   ],
   "source": [
    "mlflow.sklearn.autolog()\n",
    "\n",
    "gnb = MultinomialNB()\n",
    "gnb.fit(tfidf_train, y_train)\n",
    "\n",
    "y_pred = gnb.predict(tfidf_test)\n",
    "aucpr = eval_metrics(y_test, y_pred)\n",
    "acc = accuracy_score(y_test, y_pred)\n",
    "conf_2=confusion_matrix(y_test, y_pred)\n",
    "\n",
    "with mlflow.start_run(run_name=\"Gaussian Naive Bayes\"):\n",
    "\n",
    "    mlflow.log_metric(\"accuracy\", acc)\n",
    "    mlflow.log_metric(\"AUCPR\",aucpr)\n",
    "    mlflow.sklearn.log_model(gnb, \"model\")\n",
    "    mlflow.log_dict(np.array(conf_2).tolist(), \"confusion_matrix.json\")\n",
    "\n",
    "    print(\"\\nGaussian Naive Bayes\")\n",
    "    print(f\"Accuracy: {acc}\")\n",
    "    print(f\"AUCPR: {aucpr}\")\n",
    "    print(f\"Confusion Matrix: {conf_2} \\n\\n\")\n",
    "    \n",
    "\n",
    "    tracking_url_type_store = urlparse(mlflow.get_tracking_uri()).scheme\n",
    "    mlflow.sklearn.log_model(\n",
    "        sk_model=gnb,\n",
    "        artifact_path=\"sklearn-model\",\n",
    "        registered_model_name=\"Gaussian-NaiveBayes-model\"\n",
    "    )\n",
    "    if tracking_url_type_store != \"file\":\n",
    "      mlflow.sklearn.log_model(gnb, \"model\", registered_model_name=\"Gaussian-NaiveBayes-model\")\n",
    "    else:\n",
    "      mlflow.sklearn.log_model(gnb, \"model\")\n"
   ]
  },
  {
   "cell_type": "code",
   "execution_count": 68,
   "id": "5469bf58",
   "metadata": {},
   "outputs": [
    {
     "data": {
      "text/plain": [
       "<ModelVersion: creation_timestamp=1677526224017, current_stage='None', description=None, last_updated_timestamp=1677526224017, name='Gaussian-NaiveBayes-model', run_id='ce6ed4455d934c17adeae43f16aee1ab', run_link=None, source='file:///C:/Users/rajas/OneDrive/Documents/AML/AML_rajasvaidya/AML_assignment_2/mlruns/0/ce6ed4455d934c17adeae43f16aee1ab/artifacts/sklearn-model', status='READY', status_message=None, tags={}, user_id=None, version=1>"
      ]
     },
     "execution_count": 68,
     "metadata": {},
     "output_type": "execute_result"
    }
   ],
   "source": [
    "mlflow.tracking.MlflowClient().get_model_version(\"Gaussian-NaiveBayes-model\",\"1\")"
   ]
  },
  {
   "cell_type": "markdown",
   "id": "7a8edf41",
   "metadata": {},
   "source": [
    "Bernoulli Naive Bayes"
   ]
  },
  {
   "cell_type": "code",
   "execution_count": 69,
   "id": "0d3a0c63",
   "metadata": {},
   "outputs": [
    {
     "name": "stderr",
     "output_type": "stream",
     "text": [
      "2023/02/28 01:34:28 INFO mlflow.utils.autologging_utils: Created MLflow autologging run with ID 'ad8f86ccb0084b22ba18143b6c00f627', which will track hyperparameters, performance metrics, model artifacts, and lineage information for the current sklearn workflow\n"
     ]
    },
    {
     "name": "stdout",
     "output_type": "stream",
     "text": [
      "\n",
      "Bernoulli Naive Bayes\n",
      "Accuracy: 0.980884109916368\n",
      "AUCPR: 0.945557945041816\n",
      "Confusion Matrix: [[712   0]\n",
      " [ 16 109]] \n",
      "\n",
      "\n"
     ]
    },
    {
     "name": "stderr",
     "output_type": "stream",
     "text": [
      "Successfully registered model 'Bernoulli-NaiveBayes-model'.\n",
      "2023/02/28 01:34:36 INFO mlflow.tracking._model_registry.client: Waiting up to 300 seconds for model version to finish creation.                     Model name: Bernoulli-NaiveBayes-model, version 1\n",
      "Created version '1' of model 'Bernoulli-NaiveBayes-model'.\n"
     ]
    }
   ],
   "source": [
    "mlflow.sklearn.autolog()\n",
    "\n",
    "bnb = BernoulliNB()\n",
    "bnb.fit(tfidf_train, y_train)\n",
    "\n",
    "y_pred = bnb.predict(tfidf_test)\n",
    "aucpr = eval_metrics(y_test, y_pred)\n",
    "acc = accuracy_score(y_test, y_pred)\n",
    "conf_2=confusion_matrix(y_test, y_pred)\n",
    "\n",
    "with mlflow.start_run(run_name=\"Bernoulli Naive Bayes\"):\n",
    "\n",
    "    mlflow.log_metric(\"accuracy\", acc)\n",
    "    mlflow.log_metric(\"AUCPR\",aucpr)\n",
    "    mlflow.sklearn.log_model(bnb, \"model\")\n",
    "    mlflow.log_dict(np.array(conf_2).tolist(), \"confusion_matrix.json\")\n",
    "\n",
    "    print(\"\\nBernoulli Naive Bayes\")\n",
    "    print(f\"Accuracy: {acc}\")\n",
    "    print(f\"AUCPR: {aucpr}\")\n",
    "    print(f\"Confusion Matrix: {conf_2} \\n\\n\")\n",
    "    \n",
    "\n",
    "    tracking_url_type_store = urlparse(mlflow.get_tracking_uri()).scheme\n",
    "    mlflow.sklearn.log_model(\n",
    "        sk_model=bnb,\n",
    "        artifact_path=\"sklearn-model\",\n",
    "        registered_model_name=\"Bernoulli-NaiveBayes-model\"\n",
    "    )\n",
    "    if tracking_url_type_store != \"file\":\n",
    "      mlflow.sklearn.log_model(bnb, \"model\", registered_model_name=\"Bernoulli-NaiveBayes-model\")\n",
    "    else:\n",
    "      mlflow.sklearn.log_model(bnb, \"model\")\n"
   ]
  },
  {
   "cell_type": "code",
   "execution_count": 70,
   "id": "2787360d",
   "metadata": {},
   "outputs": [
    {
     "data": {
      "text/plain": [
       "<ModelVersion: creation_timestamp=1677528276858, current_stage='None', description=None, last_updated_timestamp=1677528276858, name='Bernoulli-NaiveBayes-model', run_id='b5d0a8e0b1ca41de9e24f1ac4f049f0f', run_link=None, source='file:///C:/Users/rajas/OneDrive/Documents/AML/AML_rajasvaidya/AML_assignment_2/mlruns/0/b5d0a8e0b1ca41de9e24f1ac4f049f0f/artifacts/sklearn-model', status='READY', status_message=None, tags={}, user_id=None, version=1>"
      ]
     },
     "execution_count": 70,
     "metadata": {},
     "output_type": "execute_result"
    }
   ],
   "source": [
    "mlflow.tracking.MlflowClient().get_model_version(\"Bernoulli-NaiveBayes-model\",\"1\")"
   ]
  },
  {
   "cell_type": "code",
   "execution_count": 51,
   "id": "b5d81a46",
   "metadata": {},
   "outputs": [
    {
     "name": "stderr",
     "output_type": "stream",
     "text": [
      "2023/02/28 01:21:43 INFO mlflow.utils.autologging_utils: Created MLflow autologging run with ID '9bf3b7eb49d641fab321e98bdfe49256', which will track hyperparameters, performance metrics, model artifacts, and lineage information for the current sklearn workflow\n"
     ]
    },
    {
     "name": "stdout",
     "output_type": "stream",
     "text": [
      "\n",
      "Logistic Regression\n",
      "Accuracy: 0.973715651135006\n",
      "AUCPR: 0.925142174432497\n",
      "Confusion Matrix: [[712   0]\n",
      " [ 22 103]] \n",
      "\n",
      "\n"
     ]
    },
    {
     "name": "stderr",
     "output_type": "stream",
     "text": [
      "Successfully registered model 'Logistic Regression'.\n",
      "2023/02/28 01:21:51 INFO mlflow.tracking._model_registry.client: Waiting up to 300 seconds for model version to finish creation.                     Model name: Logistic Regression, version 1\n",
      "Created version '1' of model 'Logistic Regression'.\n"
     ]
    }
   ],
   "source": [
    "mlflow.sklearn.autolog()\n",
    "\n",
    "lr = LogisticRegression()\n",
    "lr.fit(tfidf_train, y_train)\n",
    "\n",
    "y_pred = lr.predict(tfidf_test)\n",
    "aucpr = eval_metrics(y_test, y_pred)\n",
    "acc = accuracy_score(y_test, y_pred)\n",
    "conf_2=confusion_matrix(y_test, y_pred)\n",
    "\n",
    "with mlflow.start_run(run_name=\"Logistic Regression\"):\n",
    "\n",
    "    mlflow.log_metric(\"accuracy\", acc)\n",
    "    mlflow.log_metric(\"AUCPR\",aucpr)\n",
    "    mlflow.sklearn.log_model(lr, \"model\")\n",
    "    mlflow.log_dict(np.array(conf_2).tolist(), \"confusion_matrix.json\")\n",
    "\n",
    "    print(\"\\nLogistic Regression\")\n",
    "    print(f\"Accuracy: {acc}\")\n",
    "    print(f\"AUCPR: {aucpr}\")\n",
    "    print(f\"Confusion Matrix: {conf_2} \\n\\n\")\n",
    "    \n",
    "\n",
    "    tracking_url_type_store = urlparse(mlflow.get_tracking_uri()).scheme\n",
    "    mlflow.sklearn.log_model(\n",
    "        sk_model=lr,\n",
    "        artifact_path=\"sklearn-model\",\n",
    "        registered_model_name=\"Logistic Regression\"\n",
    "    )\n",
    "    if tracking_url_type_store != \"file\":\n",
    "      mlflow.sklearn.log_model(lr, \"model\", registered_model_name=\"Logistic Regression\")\n",
    "    else:\n",
    "      mlflow.sklearn.log_model(lr, \"model\")\n"
   ]
  },
  {
   "cell_type": "code",
   "execution_count": 52,
   "id": "7ee22911",
   "metadata": {},
   "outputs": [
    {
     "data": {
      "text/plain": [
       "<ModelVersion: creation_timestamp=1677527511731, current_stage='None', description=None, last_updated_timestamp=1677527511731, name='Logistic Regression', run_id='4a137f2cc16b4665aafb856aaa5f10da', run_link=None, source='file:///C:/Users/rajas/OneDrive/Documents/AML/AML_rajasvaidya/AML_assignment_2/mlruns/0/4a137f2cc16b4665aafb856aaa5f10da/artifacts/sklearn-model', status='READY', status_message=None, tags={}, user_id=None, version=1>"
      ]
     },
     "execution_count": 52,
     "metadata": {},
     "output_type": "execute_result"
    }
   ],
   "source": [
    "mlflow.tracking.MlflowClient().get_model_version(\"Logistic regression\",\"1\")"
   ]
  },
  {
   "cell_type": "markdown",
   "id": "ff74040d",
   "metadata": {},
   "source": [
    "Among these 3 models bernoulli naive bayes classifier works the best. "
   ]
  }
 ],
 "metadata": {
  "kernelspec": {
   "display_name": "Python 3 (ipykernel)",
   "language": "python",
   "name": "python3"
  },
  "language_info": {
   "codemirror_mode": {
    "name": "ipython",
    "version": 3
   },
   "file_extension": ".py",
   "mimetype": "text/x-python",
   "name": "python",
   "nbconvert_exporter": "python",
   "pygments_lexer": "ipython3",
   "version": "3.9.7"
  }
 },
 "nbformat": 4,
 "nbformat_minor": 5
}
