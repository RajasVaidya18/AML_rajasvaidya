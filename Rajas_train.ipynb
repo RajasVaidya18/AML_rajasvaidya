{
 "cells": [
  {
   "cell_type": "markdown",
   "id": "9f7c2746",
   "metadata": {},
   "source": [
    "# Rajas Vaidya\n"
   ]
  },
  {
   "cell_type": "markdown",
   "id": "3c82d112",
   "metadata": {},
   "source": [
    "# MDS202131"
   ]
  },
  {
   "cell_type": "markdown",
   "id": "04edf958",
   "metadata": {},
   "source": [
    "# Applied ML assignment 1"
   ]
  },
  {
   "cell_type": "markdown",
   "id": "76da1a94",
   "metadata": {},
   "source": [
    "Importing necessary libraries "
   ]
  },
  {
   "cell_type": "code",
   "execution_count": 42,
   "id": "469a6d13",
   "metadata": {},
   "outputs": [],
   "source": [
    "import pandas as pd\n",
    "import sklearn\n",
    "import numpy as np\n",
    "import matplotlib.pyplot as plt\n",
    "from sklearn.naive_bayes import GaussianNB, MultinomialNB, BernoulliNB\n",
    "from sklearn.feature_extraction.text import TfidfVectorizer\n",
    "from sklearn.linear_model import LogisticRegression\n",
    "from sklearn.ensemble import AdaBoostClassifier\n",
    "from sklearn.discriminant_analysis import QuadraticDiscriminantAnalysis\n",
    "from sklearn.metrics import accuracy_score, classification_report, confusion_matrix, ConfusionMatrixDisplay"
   ]
  },
  {
   "cell_type": "markdown",
   "id": "4f221e5b",
   "metadata": {},
   "source": [
    "Loading data from the CSVs we prepared in prepare.ipynb"
   ]
  },
  {
   "cell_type": "code",
   "execution_count": 43,
   "id": "756e0ffa",
   "metadata": {},
   "outputs": [],
   "source": [
    "train=pd.read_csv(\"C:\\\\Users\\\\rajas\\\\OneDrive\\\\Documents\\\\train.csv\")\n",
    "test=pd.read_csv(\"C:\\\\Users\\\\rajas\\\\OneDrive\\\\Documents\\\\test.csv\")\n",
    "valid=pd.read_csv(\"C:\\\\Users\\\\rajas\\\\OneDrive\\\\Documents\\\\validation.csv\")"
   ]
  },
  {
   "cell_type": "code",
   "execution_count": 44,
   "id": "f395ddf6",
   "metadata": {},
   "outputs": [],
   "source": [
    "y_train,X_train=train[\"Label\"],train[\"Text\"]\n",
    "y_val,X_val=valid[\"Label\"],valid[\"Text\"]\n",
    "y_test,X_test=test[\"Label\"],test[\"Text\"]"
   ]
  },
  {
   "cell_type": "code",
   "execution_count": 35,
   "id": "f5e76160",
   "metadata": {},
   "outputs": [],
   "source": [
    "# transform the text data to feature vectors that can be used as input for the models\n",
    "feat_extract = TfidfVectorizer(min_df = 1, stop_words='english', lowercase='True')\n",
    "X_train_feat = feat_extract.fit_transform(X_train)\n",
    "X_test_feat = feat_extract.transform(X_test)\n",
    "\n",
    "y_train = y_train.astype('int')\n",
    "y_test = y_test.astype('int')"
   ]
  },
  {
   "cell_type": "markdown",
   "id": "431da239",
   "metadata": {},
   "source": [
    "Gaussian NB"
   ]
  },
  {
   "cell_type": "code",
   "execution_count": 45,
   "id": "4625d1ec",
   "metadata": {},
   "outputs": [
    {
     "data": {
      "text/plain": [
       "GaussianNB()"
      ]
     },
     "execution_count": 45,
     "metadata": {},
     "output_type": "execute_result"
    }
   ],
   "source": [
    "gnb = GaussianNB()\n",
    "gnb.fit(X_train_feat.toarray() , y_train)"
   ]
  },
  {
   "cell_type": "code",
   "execution_count": 46,
   "id": "95d33592",
   "metadata": {},
   "outputs": [],
   "source": [
    "predict_on_train_data = gnb.predict(X_train_feat.toarray())\n",
    "acc_on_train_data = accuracy_score(y_train, predict_on_train_data)"
   ]
  },
  {
   "cell_type": "code",
   "execution_count": 47,
   "id": "4bbd4e14",
   "metadata": {},
   "outputs": [
    {
     "name": "stdout",
     "output_type": "stream",
     "text": [
      "TRAINING DATA ACCURACY :  94.181 %\n"
     ]
    }
   ],
   "source": [
    "print('TRAINING DATA ACCURACY : ', round(acc_on_train_data * 100,3), \"%\")"
   ]
  },
  {
   "cell_type": "markdown",
   "id": "808ef020",
   "metadata": {},
   "source": [
    "Evaluating on test data "
   ]
  },
  {
   "cell_type": "code",
   "execution_count": 48,
   "id": "b8cabf1f",
   "metadata": {},
   "outputs": [],
   "source": [
    "y_pred = gnb.predict(X_test_feat.toarray())\n",
    "acc_on_test_data = round(accuracy_score(y_test, y_pred) * 100,3)"
   ]
  },
  {
   "cell_type": "code",
   "execution_count": 49,
   "id": "dc3f2087",
   "metadata": {},
   "outputs": [
    {
     "name": "stdout",
     "output_type": "stream",
     "text": [
      "TEST DATA ACCURACY :  95.574 %\n"
     ]
    }
   ],
   "source": [
    "print('TEST DATA ACCURACY : ', accuracy_on_test_data, \"%\")"
   ]
  },
  {
   "cell_type": "code",
   "execution_count": 50,
   "id": "ce930026",
   "metadata": {},
   "outputs": [
    {
     "name": "stdout",
     "output_type": "stream",
     "text": [
      "              precision    recall  f1-score   support\n",
      "\n",
      "           0       0.98      0.89      0.93       718\n",
      "           1       0.57      0.92      0.71       118\n",
      "\n",
      "    accuracy                           0.89       836\n",
      "   macro avg       0.78      0.90      0.82       836\n",
      "weighted avg       0.93      0.89      0.90       836\n",
      "\n"
     ]
    }
   ],
   "source": [
    "print(classification_report(y_test,y_pred))"
   ]
  },
  {
   "cell_type": "code",
   "execution_count": 51,
   "id": "62560a33",
   "metadata": {},
   "outputs": [
    {
     "data": {
      "image/png": "[encoded data removed]",
      "text/plain": [
       "<Figure size 432x288 with 2 Axes>"
      ]
     },
     "metadata": {
      "needs_background": "light"
     },
     "output_type": "display_data"
    }
   ],
   "source": [
    "confusionmatrix = confusion_matrix(y_test, y_pred, labels=modelgnb.classes_)\n",
    "disp = ConfusionMatrixDisplay(confusion_matrix=confusionmatrix,display_labels=gnb.classes_)\n",
    "disp.plot()\n",
    "plt.show()"
   ]
  },
  {
   "cell_type": "markdown",
   "id": "d4a0c936",
   "metadata": {},
   "source": [
    "Bernoulli Naive Bayes classifier"
   ]
  },
  {
   "cell_type": "code",
   "execution_count": 61,
   "id": "4c8df2d0",
   "metadata": {},
   "outputs": [
    {
     "data": {
      "text/plain": [
       "BernoulliNB()"
      ]
     },
     "execution_count": 61,
     "metadata": {},
     "output_type": "execute_result"
    }
   ],
   "source": [
    "bnb = BernoulliNB()\n",
    "bnb.fit(X_train_feat.toarray() , y_train)"
   ]
  },
  {
   "cell_type": "code",
   "execution_count": 62,
   "id": "b18b448f",
   "metadata": {},
   "outputs": [],
   "source": [
    "predict_on_train_data = bnb.predict(X_train_feat.toarray())\n",
    "acc_on_train_data = accuracy_score(y_train, predict_on_train_data)"
   ]
  },
  {
   "cell_type": "code",
   "execution_count": 63,
   "id": "cff02dfb",
   "metadata": {},
   "outputs": [
    {
     "name": "stdout",
     "output_type": "stream",
     "text": [
      "TRAINING DATA ACCURACY:  98.872 %\n"
     ]
    }
   ],
   "source": [
    "print('TRAINING DATA ACCURACY: ', round(acc_on_train_data * 100,3), \"%\")"
   ]
  },
  {
   "cell_type": "markdown",
   "id": "551402ef",
   "metadata": {},
   "source": [
    "PRediction on Test Data "
   ]
  },
  {
   "cell_type": "code",
   "execution_count": 64,
   "id": "22c044f7",
   "metadata": {},
   "outputs": [],
   "source": [
    "y_pred = bnb.predict(X_test_feat.toarray())\n",
    "acc_on_test_data = round(accuracy_score(y_test, y_pred) * 100,3)"
   ]
  },
  {
   "cell_type": "code",
   "execution_count": 65,
   "id": "877d9cb3",
   "metadata": {},
   "outputs": [
    {
     "name": "stdout",
     "output_type": "stream",
     "text": [
      "TEST DATA ACCURACY :  96.89 %\n"
     ]
    }
   ],
   "source": [
    "print('TEST DATA ACCURACY : ', accuracy_on_test_data, \"%\")"
   ]
  },
  {
   "cell_type": "code",
   "execution_count": 66,
   "id": "32190957",
   "metadata": {},
   "outputs": [
    {
     "name": "stdout",
     "output_type": "stream",
     "text": [
      "              precision    recall  f1-score   support\n",
      "\n",
      "           0       0.97      1.00      0.98       718\n",
      "           1       1.00      0.78      0.88       118\n",
      "\n",
      "    accuracy                           0.97       836\n",
      "   macro avg       0.98      0.89      0.93       836\n",
      "weighted avg       0.97      0.97      0.97       836\n",
      "\n"
     ]
    }
   ],
   "source": [
    "print(classification_report(y_test,y_pred))"
   ]
  },
  {
   "cell_type": "code",
   "execution_count": 60,
   "id": "5b38e6a9",
   "metadata": {},
   "outputs": [
    {
     "data": {
      "image/png": "[encoded data removed]",
      "text/plain": [
       "<Figure size 432x288 with 2 Axes>"
      ]
     },
     "metadata": {
      "needs_background": "light"
     },
     "output_type": "display_data"
    }
   ],
   "source": [
    "confusionmatrix = confusion_matrix(y_test, y_pred, labels=bnb.classes_)\n",
    "disp = ConfusionMatrixDisplay(confusion_matrix=confusionmatrix,display_labels=bnb.classes_)\n",
    "disp.plot()\n",
    "plt.show()"
   ]
  },
  {
   "cell_type": "markdown",
   "id": "7e2e8c1e",
   "metadata": {},
   "source": [
    "Logistic Regression "
   ]
  },
  {
   "cell_type": "code",
   "execution_count": 68,
   "id": "7c4f79ab",
   "metadata": {},
   "outputs": [
    {
     "data": {
      "text/plain": [
       "LogisticRegression()"
      ]
     },
     "execution_count": 68,
     "metadata": {},
     "output_type": "execute_result"
    }
   ],
   "source": [
    "lr = LogisticRegression()\n",
    "lr.fit(X_train_feat, y_train)"
   ]
  },
  {
   "cell_type": "code",
   "execution_count": 69,
   "id": "ad9477fc",
   "metadata": {},
   "outputs": [],
   "source": [
    "# prediction on training data\n",
    "predict_on_train_data = lr.predict(X_train_feat)\n",
    "acc_on_train_data = round(accuracy_score(y_train, predict_on_train_data) * 100,3)"
   ]
  },
  {
   "cell_type": "code",
   "execution_count": 70,
   "id": "a54ab83e",
   "metadata": {},
   "outputs": [
    {
     "name": "stdout",
     "output_type": "stream",
     "text": [
      "TRAINING DATA ACCURACY :  96.719 %\n"
     ]
    }
   ],
   "source": [
    "print('TRAINING DATA ACCURACY : ', acc_on_train_data, \"%\")"
   ]
  },
  {
   "cell_type": "markdown",
   "id": "05fa43d1",
   "metadata": {},
   "source": [
    "Prediction on test data "
   ]
  },
  {
   "cell_type": "code",
   "execution_count": 74,
   "id": "cf364baa",
   "metadata": {},
   "outputs": [],
   "source": [
    "y_pred = lr.predict(X_test_feat)\n",
    "acc_on_test_data = round(accuracy_score(y_test, y_pred) * 100,3)"
   ]
  },
  {
   "cell_type": "code",
   "execution_count": 75,
   "id": "dbb190fa",
   "metadata": {},
   "outputs": [
    {
     "name": "stdout",
     "output_type": "stream",
     "text": [
      "Accuracy on test data :  96.89 %\n"
     ]
    }
   ],
   "source": [
    "print('Accuracy on test data : ', accuracy_on_test_data, \"%\")"
   ]
  },
  {
   "cell_type": "code",
   "execution_count": 77,
   "id": "f6089069",
   "metadata": {},
   "outputs": [
    {
     "name": "stdout",
     "output_type": "stream",
     "text": [
      "              precision    recall  f1-score   support\n",
      "\n",
      "           0       0.95      1.00      0.97       718\n",
      "           1       1.00      0.69      0.81       118\n",
      "\n",
      "    accuracy                           0.96       836\n",
      "   macro avg       0.98      0.84      0.89       836\n",
      "weighted avg       0.96      0.96      0.95       836\n",
      "\n"
     ]
    }
   ],
   "source": [
    "print(classification_report(y_test,y_pred))"
   ]
  },
  {
   "cell_type": "code",
   "execution_count": 76,
   "id": "456abdd5",
   "metadata": {},
   "outputs": [
    {
     "data": {
      "image/png": "[encoded data removed]",
      "text/plain": [
       "<Figure size 432x288 with 2 Axes>"
      ]
     },
     "metadata": {
      "needs_background": "light"
     },
     "output_type": "display_data"
    }
   ],
   "source": [
    "confusionmatrix = confusion_matrix(y_test, y_pred, labels=lr.classes_)\n",
    "disp = ConfusionMatrixDisplay(confusion_matrix=confusionmatrix,display_labels=lr.classes_)\n",
    "disp.plot()\n",
    "plt.show()"
   ]
  },
  {
   "cell_type": "markdown",
   "id": "c95c47b1",
   "metadata": {},
   "source": [
    "In spam email problem, precision is more important since the cost of false positive is high. i.e We don't want a genuine emails to be classified as spam .\n",
    "Here, Gaussian gives the best precision. Hence we can choose gaussian Naive Bayes ."
   ]
  },
  {
   "cell_type": "code",
   "execution_count": null,
   "id": "83486ca1",
   "metadata": {},
   "outputs": [],
   "source": []
  }
 ],
 "metadata": {
  "kernelspec": {
   "display_name": "Python 3 (ipykernel)",
   "language": "python",
   "name": "python3"
  },
  "language_info": {
   "codemirror_mode": {
    "name": "ipython",
    "version": 3
   },
   "file_extension": ".py",
   "mimetype": "text/x-python",
   "name": "python",
   "nbconvert_exporter": "python",
   "pygments_lexer": "ipython3",
   "version": "3.9.7"
  }
 },
 "nbformat": 4,
 "nbformat_minor": 5
}
